{
 "cells": [
  {
   "cell_type": "code",
   "execution_count": 1,
   "id": "61e52860",
   "metadata": {},
   "outputs": [
    {
     "name": "stdout",
     "output_type": "stream",
     "text": [
      "The unique character present in the conversation is 16\n"
     ]
    }
   ],
   "source": [
    "text_file = open('conv.txt', 'r')\n",
    "text = text_file.read()\n",
    "\n",
    "#cleaning\n",
    "text = text.lower()\n",
    "words = text.split()\n",
    "words = [word.strip('.,!;()[]') for word in words]\n",
    "words = [word.replace(\"'s\", '') for word in words]\n",
    "\n",
    "#finding unique\n",
    "unique = []\n",
    "for word in words:\n",
    "    if word not in unique:\n",
    "        unique.append(word)\n",
    "\n",
    "end_letter = ':'\n",
    "    \n",
    "# using list comprehension + endswith()\n",
    "# Prefix Separation\n",
    "with_s = [x for x in unique if x.endswith(end_letter)]\n",
    "  \n",
    "print(\"The unique character present in the conversation is\",len(with_s))\n",
    "text_file.close()\n"
   ]
  },
  {
   "cell_type": "code",
   "execution_count": 3,
   "id": "0d9f2f26",
   "metadata": {},
   "outputs": [
    {
     "data": {
      "text/plain": [
       "list"
      ]
     },
     "execution_count": 3,
     "metadata": {},
     "output_type": "execute_result"
    }
   ],
   "source": [
    "type(words)"
   ]
  },
  {
   "cell_type": "code",
   "execution_count": 4,
   "id": "59bd74ab",
   "metadata": {},
   "outputs": [],
   "source": [
    "my_file = open('datasets/Will.txt','w+')\n",
    "\n",
    "my_file.write('wildlings')\n",
    "my_file = open('datasets/Royce.txt','w+')\n",
    "\n",
    "my_file.write('deserter')\n",
    "my_file = open('datasets/Gared.txt','w+')\n",
    "\n",
    "my_file.write('track')\n",
    "my_file = open('datasets/Jon.txt','w+')\n",
    "\n",
    "my_file.write('stark')\n",
    "my_file = open('datasets/Mordane.txt','w+')\n",
    "\n",
    "my_file.write('love')\n",
    "my_file = open('datasets/Sansa.txt','w+')\n",
    "\n",
    "my_file.write('shut')\n",
    "my_file = open('datasets/Ned.txt','w+')\n",
    "\n",
    "my_file.write('saddle')\n",
    "my_file = open('datasets/Rob.txt','w+')\n",
    "\n",
    "my_file.write('direwolves')\n",
    "my_file = open('datasets/Cassel.txt','w+')\n",
    "\n",
    "my_file.write('guardsman')\n",
    "my_file = open('datasets/Catalyn.txt','w+')\n",
    "\n",
    "my_file.write('gods')\n",
    "my_file = open('datasets/Bran.txt','w+')\n",
    "\n",
    "my_file.write('king')\n",
    "my_file = open('datasets/Theon.txt','w+')\n",
    "\n",
    "my_file.write('prick')\n",
    "my_file = open('datasets/Cersei.txt','w+')\n",
    "\n",
    "my_file.write('beast')\n",
    "my_file = open('datasets/Jaime.txt','w+')\n",
    "\n",
    "my_file.write('skewered')\n",
    "my_file = open('datasets/Robert.txt','w+')\n",
    "\n",
    "my_file.write('soldier')\n",
    "my_file = open('datasets/Arya.txt','w+')\n",
    "\n",
    "my_file.write('brother')\n",
    "my_file.close()"
   ]
  },
  {
   "cell_type": "code",
   "execution_count": null,
   "id": "ab68d7a8",
   "metadata": {},
   "outputs": [],
   "source": []
  },
  {
   "cell_type": "code",
   "execution_count": null,
   "id": "6ffe0d92",
   "metadata": {},
   "outputs": [],
   "source": []
  },
  {
   "cell_type": "code",
   "execution_count": null,
   "id": "b893cec8",
   "metadata": {},
   "outputs": [],
   "source": []
  },
  {
   "cell_type": "code",
   "execution_count": null,
   "id": "2e8b4613",
   "metadata": {},
   "outputs": [],
   "source": []
  }
 ],
 "metadata": {
  "kernelspec": {
   "display_name": "Python 3",
   "language": "python",
   "name": "python3"
  },
  "language_info": {
   "codemirror_mode": {
    "name": "ipython",
    "version": 3
   },
   "file_extension": ".py",
   "mimetype": "text/x-python",
   "name": "python",
   "nbconvert_exporter": "python",
   "pygments_lexer": "ipython3",
   "version": "3.8.8"
  }
 },
 "nbformat": 4,
 "nbformat_minor": 5
}
